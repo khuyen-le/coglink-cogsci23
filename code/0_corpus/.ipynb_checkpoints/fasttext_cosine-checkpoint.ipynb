{
 "cells": [
  {
   "cell_type": "code",
   "execution_count": 2,
   "metadata": {
    "scrolled": true
   },
   "outputs": [],
   "source": [
    "import fasttext\n",
    "import fasttext.util\n",
    "\n",
    "from scipy import spatial\n",
    "import pandas as pd\n",
    "\n",
    "def cosine(word1, word2): #get cosine distance from each pair\n",
    "    vector1 = ft.get_word_vector(word1) #getting word vectors from fasttext\n",
    "    vector2 = ft.get_word_vector(word2)\n",
    "    return spatial.distance.cosine(vector1, vector2)\n",
    "\n",
    "def cosine_sim(word1, word2): #get cosine similarity from each pair\n",
    "    vector1 = ft.get_word_vector(word1) #getting word vectors from fasttext\n",
    "    vector2 = ft.get_word_vector(word2)\n",
    "    return 1-spatial.distance.cosine(vector1, vector2)"
   ]
  },
  {
   "cell_type": "code",
   "execution_count": null,
   "metadata": {},
   "outputs": [],
   "source": [
    "# Get fastText models for English\n",
    "ft = fasttext.load_model('cc.en.300.bin')\n",
    "ft.get_dimension()\n",
    "\n",
    "# Calculate cosine distance and similarity, and appending to existing data frame with raw lexical co-occurrence\n",
    "df = pd.read_csv ('corpusEMV_filler.csv')\n",
    "print(df[:10])\n",
    "\n",
    "df['word1_match_cosine_E'] = df.apply(lambda row : cosine(row['cue_E'], row['word1_E']), axis = 1)\n",
    "df['word2_match_cosine_E'] = df.apply(lambda row : cosine(row['cue_E'], row['word2_E']), axis = 1)\n",
    "                            \n",
    "df['word1_match_cosine_sim_E'] = df.apply(lambda row : cosine_sim(row['cue_E'], row['word1_E']), axis = 1)\n",
    "df['word2_match_cosine_sim_E'] = df.apply(lambda row : cosine_sim(row['cue_E'], row['word2_E']), axis = 1)\n",
    "\n",
    "print(df[:10])\n",
    "\n",
    "# Write to a new csv file\n",
    "#df.to_csv('corpusEMV_filler.csv', index=False)"
   ]
  },
  {
   "cell_type": "code",
   "execution_count": null,
   "metadata": {},
   "outputs": [],
   "source": [
    "# Get fastText models for Mandarin\n",
    "ft = fasttext.load_model('cc.zh.300.bin')\n",
    "ft.get_dimension()\n",
    "\n",
    "# Calculate cosine distance and similarity, and appending to existing data frame with raw lexical co-occurrence\n",
    "df = pd.read_csv ('corpusEMV_filler.csv')\n",
    "print(df[:10])\n",
    "\n",
    "df['word1_match_cosine_M'] = df.apply(lambda row : cosine(row['cue_M'], row['word1_M']), axis = 1)\n",
    "df['word2_match_cosine_M'] = df.apply(lambda row : cosine(row['cue_M'], row['word2_M']), axis = 1)\n",
    "                            \n",
    "df['word1_match_cosine_sim_M'] = df.apply(lambda row : cosine_sim(row['cue_M'], row['word1_M']), axis = 1)\n",
    "df['word2_match_cosine_sim_M'] = df.apply(lambda row : cosine_sim(row['cue_M'], row['word2_M']), axis = 1)\n",
    "print(df[:10])\n",
    "\n",
    "# Write to a new csv file\n",
    "df.to_csv('corpusEMV_filler.csv', index=False)"
   ]
  },
  {
   "cell_type": "code",
   "execution_count": 24,
   "metadata": {},
   "outputs": [],
   "source": [
    "# Get fastText models for Vietnamese\n",
    "ft = fasttext.load_model('cc.vi.300.bin')\n",
    "ft.get_dimension()\n",
    "\n",
    "# Calculate cosine distance and similarity, and appending to existing data frame with raw lexical co-occurrence\n",
    "df = pd.read_csv ('corpusEMV_filler.csv')\n",
    "print(df[:10])\n",
    "\n",
    "df['word1_match_cosine_V'] = df.apply(lambda row : cosine(row['cue_V'], row['word1_V']), axis = 1)\n",
    "df['word2_match_cosine_V'] = df.apply(lambda row : cosine(row['cue_V'], row['word2_V']), axis = 1)\n",
    "                            \n",
    "df['word1_match_cosine_sim_V'] = df.apply(lambda row : cosine_sim(row['cue_V'], row['word1_V']), axis = 1)\n",
    "df['word2_match_cosine_sim_V'] = df.apply(lambda row : cosine_sim(row['cue_V'], row['word2_V']), axis = 1)\n",
    "\n",
    "print(df[:10])\n",
    "\n",
    "# Write to a new csv file\n",
    "df.to_csv('corpusEMV_filler.csv', index=False)"
   ]
  }
 ],
 "metadata": {
  "kernelspec": {
   "display_name": "Python 3 (ipykernel)",
   "language": "python",
   "name": "python3"
  },
  "language_info": {
   "codemirror_mode": {
    "name": "ipython",
    "version": 3
   },
   "file_extension": ".py",
   "mimetype": "text/x-python",
   "name": "python",
   "nbconvert_exporter": "python",
   "pygments_lexer": "ipython3",
   "version": "3.9.12"
  }
 },
 "nbformat": 4,
 "nbformat_minor": 4
}

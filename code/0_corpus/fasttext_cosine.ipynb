{
 "cells": [
  {
   "cell_type": "code",
   "execution_count": 3,
   "metadata": {
    "scrolled": true
   },
   "outputs": [],
   "source": [
    "import fasttext\n",
    "import fasttext.util\n",
    "from scipy import spatial\n",
    "import pandas as pd\n",
    "\n",
    "def cosine(word1, word2): #get cosine distance from each pair\n",
    "    vector1 = ft.get_word_vector(word1) #getting word vectors from fasttext\n",
    "    vector2 = ft.get_word_vector(word2)\n",
    "    return spatial.distance.cosine(vector1, vector2)\n",
    "\n",
    "def cosine_sim(word1, word2): #get cosine similarity from each pair\n",
    "    vector1 = ft.get_word_vector(word1) #getting word vectors from fasttext\n",
    "    vector2 = ft.get_word_vector(word2)\n",
    "    return 1-spatial.distance.cosine(vector1, vector2)"
   ]
  },
  {
   "cell_type": "code",
   "execution_count": null,
   "metadata": {},
   "outputs": [],
   "source": [
    "# Get fastText models for English\n",
    "ft = fasttext.load_model('cc.en.300.bin')\n",
    "ft.get_dimension()\n",
    "\n",
    "# Calculate cosine distance and similarity, and appending to existing data frame with raw lexical co-occurrence\n",
    "df = pd.read_csv ('corpusE_0.csv')\n",
    "print(df)\n",
    "\n",
    "df['Tax.cosine_dist'] = df.apply(lambda row : cosine(row['Cue'], row['Tax.match']), axis = 1)\n",
    "df['Theme.cosine_dist'] = df.apply(lambda row : cosine(row['Cue'], row['Theme.match']), axis = 1)\n",
    "                            \n",
    "df['Tax.cosine_sim'] = df.apply(lambda row : cosine_sim(row['Cue'], row['Tax.match']), axis = 1)\n",
    "df['Theme.cosine_sim'] = df.apply(lambda row : cosine_sim(row['Cue'], row['Theme.match']), axis = 1)\n",
    "\n",
    "print(df)\n",
    "\n",
    "# Write to a new csv file\n",
    "df.to_csv('corpusE.csv', index=False)"
   ]
  },
  {
   "cell_type": "code",
   "execution_count": null,
   "metadata": {},
   "outputs": [],
   "source": [
    "# Get fastText models for Mandarin\n",
    "ft = fasttext.load_model('cc.zh.300.bin')\n",
    "ft.get_dimension()\n",
    "\n",
    "# Calculate cosine distance and similarity, and appending to existing data frame with raw lexical co-occurrence\n",
    "df = pd.read_csv ('corpusM_0.csv')\n",
    "print(df)\n",
    "\n",
    "df['Tax.cosine_dist'] = df.apply(lambda row : cosine(row['Cue'], row['Tax.match']), axis = 1)\n",
    "df['Theme.cosine_dist'] = df.apply(lambda row : cosine(row['Cue'], row['Theme.match']), axis = 1)\n",
    "                            \n",
    "df['Tax.cosine_sim'] = df.apply(lambda row : cosine_sim(row['Cue'], row['Tax.match']), axis = 1)\n",
    "df['Theme.cosine_sim'] = df.apply(lambda row : cosine_sim(row['Cue'], row['Theme.match']), axis = 1)\n",
    "\n",
    "print(df)\n",
    "\n",
    "# Write to a new csv file\n",
    "df.to_csv('corpusM.csv', index=False)"
   ]
  },
  {
   "cell_type": "code",
   "execution_count": 24,
   "metadata": {},
   "outputs": [],
   "source": [
    "# Get fastText models for Vietnamese\n",
    "ft = fasttext.load_model('cc.vi.300.bin')\n",
    "ft.get_dimension()\n",
    "\n",
    "# Calculate cosine distance and similarity, and appending to existing data frame with raw lexical co-occurrence\n",
    "df = pd.read_csv ('corpusV_0.csv')\n",
    "print(df)\n",
    "\n",
    "df['Tax.cosine_dist'] = df.apply(lambda row : cosine(row['Cue'], row['Tax.match']), axis = 1)\n",
    "df['Theme.cosine_dist'] = df.apply(lambda row : cosine(row['Cue'], row['Theme.match']), axis = 1)\n",
    "                            \n",
    "df['Tax.cosine_sim'] = df.apply(lambda row : cosine_sim(row['Cue'], row['Tax.match']), axis = 1)\n",
    "df['Theme.cosine_sim'] = df.apply(lambda row : cosine_sim(row['Cue'], row['Theme.match']), axis = 1)\n",
    "\n",
    "print(df)\n",
    "\n",
    "# Write to a new csv file\n",
    "df.to_csv('corpusV.csv', index=False)"
   ]
  }
 ],
 "metadata": {
  "kernelspec": {
   "display_name": "Python 3 (ipykernel)",
   "language": "python",
   "name": "python3"
  },
  "language_info": {
   "codemirror_mode": {
    "name": "ipython",
    "version": 3
   },
   "file_extension": ".py",
   "mimetype": "text/x-python",
   "name": "python",
   "nbconvert_exporter": "python",
   "pygments_lexer": "ipython3",
   "version": "3.9.12"
  }
 },
 "nbformat": 4,
 "nbformat_minor": 4
}
